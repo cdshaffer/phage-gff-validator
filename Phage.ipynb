{
 "metadata": {
  "name": "",
  "signature": "sha256:a2a7b3545693884ca3509df2afe85c54e4b9a2247115aca0326b05fb7f1e61d3"
 },
 "nbformat": 3,
 "nbformat_minor": 0,
 "worksheets": [
  {
   "cells": [
    {
     "cell_type": "code",
     "collapsed": false,
     "input": [
      "pwd"
     ],
     "language": "python",
     "metadata": {},
     "outputs": [
      {
       "metadata": {},
       "output_type": "pyout",
       "prompt_number": 1,
       "text": [
        "u'/Users/chris/Documents/code/python/gff_validator'"
       ]
      }
     ],
     "prompt_number": 1
    },
    {
     "cell_type": "code",
     "collapsed": false,
     "input": [
      "import sys, re, Bio\n",
      "from Bio.Seq import Seq\n",
      "from Bio.Alphabet import IUPAC\n",
      "from Bio import SeqIO"
     ],
     "language": "python",
     "metadata": {},
     "outputs": [],
     "prompt_number": 2
    },
    {
     "cell_type": "heading",
     "level": 2,
     "metadata": {},
     "source": [
      "set up functions"
     ]
    },
    {
     "cell_type": "heading",
     "level": 3,
     "metadata": {},
     "source": [
      "def sortGff3"
     ]
    },
    {
     "cell_type": "code",
     "collapsed": false,
     "input": [
      "def sortGff3(gff3_File, types = ['gene','mRNA','exon']): ## don't forget to add name checking\n",
      "    \"\"\"\n",
      "    sortGFF3 opens a gff file and does some validation BLAH BLAH BLAH  #FIXME\n",
      "    \"\"\"\n",
      "    f1 = open(gff3_File, \"r\")\n",
      "    holder = dict()\n",
      "    counter = dict()\n",
      "    contigCount = False\n",
      "    lineCount = -1\n",
      "    formatCount = 0\n",
      "    \n",
      "    for line in f1:\n",
      "        \n",
      "        lineCount += 1\n",
      "        \n",
      "        try:\n",
      "            theLine = line.strip().split(\"\\t\")  #split on tab\n",
      "            if len(theLine) > 9: # 9 columns in a proper gff file\n",
      "                raise FormatError(\"0200\")\n",
      "            elif len(theLine) < 9:\n",
      "                raise FormatError(\"0100\")\n",
      "        except FormatError as er:\n",
      "            Errors.append(\"[\" + str(lineCount) + \"] \" + er.returnError())\n",
      "            continue\n",
      "        except:\n",
      "            Errors.append(\"Validation Error: unkown error. Check line: \" + line)\n",
      "        \n",
      "        if theLine[2] == \"contig\":\n",
      "            continue\n",
      "        \n",
      "        if theLine[2] not in types:\n",
      "            Errors.append(\"The third component of each line must be one of the following types: \" \n",
      "                          + str(types) + \" .\")\n",
      "            return \"kill\"\n",
      "        \n",
      "        holder[theLine[2] + \"_\" + theLine[3]] = line #FIXME: problem here with programmed frameshift\n",
      "        \n",
      "        if theLine[3] in counter:\n",
      "            counter[theLine[3]] = counter[theLine[3]] + types.index(theLine[2])\n",
      "        else:\n",
      "            counter[theLine[3]] = types.index(theLine[2])\n",
      "    f1.close()\n",
      "    \n",
      "    counterKeys = counter.keys()\n",
      "    \n",
      "    expectedNum = ((len(types))*(len(types)-1))/2\n",
      "    for key in counterKeys:\n",
      "        thisNum = counter[key]\n",
      "        try:\n",
      "            if thisNum == expectedNum:\n",
      "                continue\n",
      "            else:\n",
      "                raise FormatError(\"0500\")\n",
      "        except FormatError as er:\n",
      "            Errors.append(\"Coordinate \" + key + \" \" + er.returnError())\n",
      "    \n",
      "    keyList = holder.keys()  \n",
      "    i = 0    \n",
      "    length = len(keyList)\n",
      "    while i < length:\n",
      "        Key = keyList[i].split(\"_\")\n",
      "      \n",
      "        try:\n",
      "            if Key[0] == \"contig\":\n",
      "                if not contigCount:\n",
      "                    temp = keyList[0]\n",
      "                    keyList[0] = keyList[i]\n",
      "                    keyList[i] = temp\n",
      "                    contigCount = True\n",
      "                    continue\n",
      "                else:\n",
      "                    raise FormatError(\"0400\") ## should only be one contig per file\n",
      "        except FormatError as er:\n",
      "            Errors.append(\"[\" + str(i) + \"] \" + er.returnError())\n",
      "            i+=1\n",
      "            continue ## may need to look at this closer. Handling when there are multiple contig lines.\n",
      "        \n",
      "        if contigCount:\n",
      "            if i == 1:\n",
      "                i+=1\n",
      "        else:\n",
      "            if i == 0:\n",
      "                i+=1\n",
      "            \n",
      "        preKey = keyList[i-1].split(\"_\")\n",
      "        \n",
      "        if preKey[1] == Key[1]: ## same start coordinates\n",
      "            prePos = int(types.index(preKey[0]))\n",
      "            Pos = int(types.index(Key[0]))\n",
      "            if Pos < prePos : ## sort based on types list. Start of list > end.\n",
      "                temp = keyList[i-1]\n",
      "                keyList[i-1] = keyList[i]\n",
      "                keyList[i] = temp\n",
      "                i-=1\n",
      "                continue\n",
      "            else:\n",
      "                i+=1\n",
      "                continue\n",
      "        \n",
      "        elif int(preKey[1]) > int(Key[1]): ## preveous key's coords is > current key's coord\n",
      "            temp = keyList[i-1]\n",
      "            keyList[i-1] = keyList[i]\n",
      "            keyList[i] = temp\n",
      "            i-=1\n",
      "            \n",
      "        else:\n",
      "            i+=1\n",
      "            \n",
      "    tempS = str(gff3_File)\n",
      "    newName = tempS[0:-5] + \"_sorted.gff3\"\n",
      "    out = open(newName,\"w\")\n",
      "    for key in keyList:\n",
      "        out.write(holder[key])\n",
      "    out.close()\n",
      "    return [keyList, holder]"
     ],
     "language": "python",
     "metadata": {},
     "outputs": [],
     "prompt_number": 4
    },
    {
     "cell_type": "heading",
     "level": 3,
     "metadata": {},
     "source": [
      "def fileCheck"
     ]
    },
    {
     "cell_type": "code",
     "collapsed": false,
     "input": [
      "def fileCheck(gff3_File, fasta_Seq, types = ['gene','mRNA','exon']):\n",
      "    \"\"\"\n",
      "    Checks each component of each line of the gff file for proper format. Prints to the global\n",
      "    list 'Errors' when a component is incorrectly formatted.\n",
      "\n",
      "    Parameters:\n",
      "    -'keyList': list of sorted keys.\n",
      "    -'holder': dictionary of lines paired with keys in 'keyList'.\n",
      "    -'Seq': string of the nucleotide sequence extracted from uploaded fasta file.    \n",
      "    -'types': A list indicating the types of each gff line and the order the types should\n",
      "              be sorted in. The first type in the list will be ordered before the second, \n",
      "              the second type before the third, etc.\n",
      "    \"\"\" \n",
      "    f1 = open(gff3_File, \"r\")\n",
      "    priorID = \"N/A\"\n",
      "    count = 0\n",
      "    lineCount = 0\n",
      "    namesList=[]\n",
      "    for line in f1:\n",
      "        \n",
      "        lineCount += 1\n",
      "        \n",
      "        try:\n",
      "            ## try here to catch if students not tab deliminating or adding extra lines\n",
      "            theLine = line.strip().split(\"\\t\") \n",
      "        except:\n",
      "            Errors.append(\"Format Error: each line needs to be tab deliminated.\")\n",
      "            return \"kill\"\n",
      "        \n",
      "        try:\n",
      "            if len(theLine) > 9:\n",
      "                raise FormatError(\"0200\")\n",
      "            elif len(theLine) < 9:\n",
      "                raise FormatError(\"0100\")\n",
      "        except FormatError as er:\n",
      "            Errors.append(\"[\" + str(lineCount) + \"] \" + er.returnError())\n",
      "            continue\n",
      "            \n",
      "        ### 1ST and 2ND ITEM ### \n",
      "        try:\n",
      "            if charCheck(theLine[0]):\n",
      "                raise LineError(\"0002\")\n",
      "            elif charCheck(theLine[1]):\n",
      "                raise LineError(\"0003\")\n",
      "        except LineError as er:\n",
      "            Errors.append(\"[\" + str(lineCount) +\"] \" + er.returnError())\n",
      "        \n",
      "        ### 3RD ITEM ###\n",
      "        try:\n",
      "            if theLine[2] not in types:\n",
      "                raise LineError(\"0004\")  ## types can be changed if more types of line needed\n",
      "        except LineError as er:\n",
      "            Errors.append(\"[\" + str(lineCount) +\"] \" + er.returnError())\n",
      "        \n",
      "        ### 4TH ITEM ###\n",
      "        try:\n",
      "            if not int(theLine[3]) > 0:\n",
      "                raise LineError(\"0005\") ## needs to be greater than 0\n",
      "        except LineError as er:\n",
      "            Errors.append(\"[\" + str(lineCount) +\"] \" + er.returnError())\n",
      "        except ValueError as er:\n",
      "            Errors.append(\"[\" + str(lineCount) +\"] \" + str(er)) \n",
      "        \n",
      "        ## has to be an integer\n",
      "        ## should I put a general error catch here as well?\n",
      "        \n",
      "        ### 5TH ITEM ###\n",
      "        try:\n",
      "            if not int(theLine[4]) > int(theLine[3]):\n",
      "                raise LineError(\"0006\") ## needs to be greater than 1st coordinate\n",
      "        except LineError as er:\n",
      "            Errors.append(\"[\" + str(lineCount) +\"] \" + er.returnError())\n",
      "        except ValueError as er:\n",
      "            Errors.append(\"[\" + str(lineCount) +\"] \" + str(er)) \n",
      "        \n",
      "        ### 6TH ITEM ###\n",
      "        try:\n",
      "            if theLine[5] != \".\": ## can also be a number\n",
      "                try:\n",
      "                    int(theLine[5])\n",
      "                except ValueError:\n",
      "                    raise LineError(\"0007\")\n",
      "        except LineError as er:\n",
      "            Errors.append(\"[\" + str(lineCount) +\"] \" + er.returnError())\n",
      "            \n",
      "        ### 7TH ITEM ###\n",
      "        try:\n",
      "            if theLine[6] != \"+\":\n",
      "                if theLine[6] != \"-\":\n",
      "                    raise LineError(\"0008\")  ## + or - strand\n",
      "        except LineError as er:\n",
      "            Errors.append(\"[\" + str(lineCount) +\"] \" + er.returnError())\n",
      "                \n",
      "         ### 8TH ITEM ### \n",
      "        try:\n",
      "            if theLine[7] != \".\":\n",
      "                raise LineError(\"0009\")\n",
      "        except LineError as er:\n",
      "            Errors.append(\"[\" + str(lineCount) +\"] \" + er.returnError())\n",
      "                \n",
      "        \n",
      "        ### 9TH ITEM ###        \n",
      "        if theLine[2] == types[0]: # FOR types[0] (Where the gene is checked)\n",
      "            geneCheck(int(theLine[3]),int(theLine[4]),fasta_Seq,lineCount)\n",
      "            last = theLine[8]\n",
      "            \n",
      "            try:\n",
      "                if charCheck(last) :\n",
      "                    raise LineError(\"0011\")\n",
      "            except LineError as er:\n",
      "                Errors.append(\"[\" + str(lineCount) +\"] \" + er.returnError())\n",
      "            \n",
      "            count=1\n",
      "            \n",
      "            last = theLine[8].split(\";\")\n",
      "            \n",
      "            _Name = False\n",
      "            _ID = False\n",
      "            try:\n",
      "                for x in range(0, len(last)):\n",
      "                    if last[x].find(\"=\") < 0:\n",
      "                        continue\n",
      "                    elif last[x].find(\"ID=\") == 0:\n",
      "                        _ID = True\n",
      "                        priorID = last[x][3:]\n",
      "                        if namesList.count(priorID) > 0:\n",
      "                            raise LineError(\"0012\") ## each id can only be used once \n",
      "                        else:\n",
      "                            namesList.append(priorID)\n",
      "                    elif last[x].find(\"Name=\") == 0:\n",
      "                        _Name = True\n",
      "                    else:\n",
      "                        raise ValidationError(\"1000\")\n",
      "                        continue\n",
      "            except LineError as er:\n",
      "                Errors.append(\"[\" + str(lineCount) +\"] \" + er.returnError())\n",
      "            except ValidationError as er:\n",
      "                Errors.append(\"[\" + str(lineCount) +\"] \" + er.returnError() + \n",
      "                              \" = spurious info. Recheck requirements of 9th component\")\n",
      "            \n",
      "            try:\n",
      "                if not _Name or not _ID:\n",
      "                    raise LineError(\"0013\")  ## have to have a Name and an ID\n",
      "            except LineError as er:\n",
      "                Errors.append(\"[\" + str(lineCount) +\"] \" + er.returnError())\n",
      "                \n",
      "                \n",
      "             ###################### FOR ALL OTHER TYPES ##################\n",
      "        else:                      \n",
      "            typesPos = int(types.index(theLine[2]))\n",
      "            \n",
      "            try:\n",
      "                if not count == typesPos:\n",
      "            ## Either the file is not sorted properly or not all types are present for each gene\n",
      "                    raise LineError(\"0021\") \n",
      "                    continue\n",
      "            except LineError as er:\n",
      "                Errors.append(\"[\" + str(lineCount) +\"] \" + er.returnError())\n",
      "                \n",
      "            count += 1\n",
      "            last = theLine[8]\n",
      "            \n",
      "            try:\n",
      "                if charCheck(last):\n",
      "                    raise LineError(\"0022\")\n",
      "            except LineError as er:\n",
      "                Errors.append(\"[\" + str(lineCount) +\"] \" + er.returnError())\n",
      "            \n",
      "            tempID = \"N/A\"\n",
      "            last = theLine[8].split(\";\")\n",
      "            \n",
      "            _Parent = False\n",
      "            _ID = False\n",
      "            try:\n",
      "                for x in range(0, len(last)):\n",
      "                    if last[x].find(\"=\") < 0:\n",
      "                        continue\n",
      "                    elif last[x].find(\"ID=\") == 0:\n",
      "                        _ID = True\n",
      "                        tempID = last[x][3:]\n",
      "                        if namesList.count(tempID) > 0:\n",
      "                            raise LineError(\"0023\") ## each id can only be used once \n",
      "                        else:\n",
      "                            namesList.append(tempID)\n",
      "                    elif last[x].find(\"Parent=\") == 0:\n",
      "                        _Parent = True\n",
      "                    else:\n",
      "                        raise ValidationError(\"1000\") ## Catch everything else. Spurious info???\n",
      "            except LineError as er:\n",
      "                Errors.append(\"[\" + str(lineCount) +\"] \" + er.returnError())\n",
      "            except ValidationError as er:\n",
      "                Errors.append(\"[\" + str(lineCount) +\"] \" + er.returnError() + \n",
      "                              \" = spurious info. Recheck requirements of 9th component\")\n",
      "                continue\n",
      "            \n",
      "            try:\n",
      "                if count == len(types):\n",
      "                    if not _Parent:\n",
      "                        raise LineError(\"0024\") ## for last type must at least have a Parent\n",
      "                else:\n",
      "                    if not _Parent or not _ID:\n",
      "                        raise LineError(\"0025\") ## need an ID and Parent\n",
      "            except LineError as er:\n",
      "                Errors.append(\"[\" + str(lineCount) +\"] \" + er.returnError())\n",
      "                \n",
      "    f1.close()\n",
      "    return \"clean\""
     ],
     "language": "python",
     "metadata": {},
     "outputs": []
    },
    {
     "cell_type": "heading",
     "level": 3,
     "metadata": {},
     "source": [
      "def fastaRead"
     ]
    },
    {
     "cell_type": "code",
     "collapsed": false,
     "input": [
      "def fastaRead(fasta_File):\n",
      "    \"\"\"\n",
      "    Reads in a nucleotide sequence from a text file in .fasta format.\n",
      "\n",
      "    Parameters:\n",
      "    -'fasta_File': uploaded text file in .fasta format\n",
      "\n",
      "    Output:\n",
      "    -'seq': string of a nucleotide sequence.\n",
      "    \"\"\"\n",
      "\n",
      "    seq = []\n",
      "    try:\n",
      "        f1 = open(fasta_File, \"r\")\n",
      "    except:\n",
      "        return \"Error: unable to read fasta file.\"\n",
      "    \n",
      "    for line in f1:\n",
      "        line = line.rstrip()\n",
      "        if line.startswith(\">\"):\n",
      "            continue\n",
      "        else:\n",
      "            seq.append(line)\n",
      "\n",
      "    f1.close()\n",
      "    return ''.join(seq)"
     ],
     "language": "python",
     "metadata": {},
     "outputs": [
      {
       "ename": "IndentationError",
       "evalue": "expected an indented block (<ipython-input-6-4989e344ed1f>, line 10)",
       "output_type": "pyerr",
       "traceback": [
        "\u001b[0;36m  File \u001b[0;32m\"<ipython-input-6-4989e344ed1f>\"\u001b[0;36m, line \u001b[0;32m10\u001b[0m\n\u001b[0;31m    \"\"\"\u001b[0m\n\u001b[0m       \n^\u001b[0m\n\u001b[0;31mIndentationError\u001b[0m\u001b[0;31m:\u001b[0m expected an indented block\n"
       ]
      }
     ],
     "prompt_number": 6
    },
    {
     "cell_type": "code",
     "collapsed": false,
     "input": [
      "def charCheck(str, search=re.compile(r'[^a-zA-Z0-9.=;]').search):\n",
      "    return bool(search(str))"
     ],
     "language": "python",
     "metadata": {},
     "outputs": []
    },
    {
     "cell_type": "code",
     "collapsed": false,
     "input": [
      "derp = main(\"doc/\", \"HideAndSeek.fasta\")"
     ],
     "language": "python",
     "metadata": {},
     "outputs": []
    },
    {
     "cell_type": "code",
     "collapsed": false,
     "input": [
      "derp[0]"
     ],
     "language": "python",
     "metadata": {},
     "outputs": []
    },
    {
     "cell_type": "code",
     "collapsed": false,
     "input": [
      "global Errors\n",
      "Errors = []\n",
      "\n",
      "#f1 = open(\"Jerm2-final-genes.txt\", \"r\")\n",
      "#for line in f1:\n",
      "#    theLine = line.strip().split(\"\\t\")\n",
      "#    for comp in theLine:\n",
      "#        print comp\n",
      "#    print \"\\n\\n\"\n",
      "\n",
      "derp = sortGff3(\"Jerm2-final-genes.txt\")\n",
      "print derp[1]['gene_599']"
     ],
     "language": "python",
     "metadata": {},
     "outputs": []
    },
    {
     "cell_type": "code",
     "collapsed": false,
     "input": [
      "def main(gff3_File, seq_File):\n",
      "    global Errors\n",
      "    Errors = []\n",
      "    seq = fastaRead(seq_File)\n",
      "    \n",
      "    sorted_File = sortGff3(gff3_File)\n",
      "    \n",
      "    report = fileCheck(sorted_File, seq)\n",
      "    \n",
      "    newName = gff3_File[0:-5] + \"_sorted_Errors.txt\"\n",
      "    out = open(newName,\"w\")\n",
      "    for item in Errors:\n",
      "        out.write(item)\n",
      "        out.write(\"\\n\")\n",
      "    out.close()\n",
      "    return [sorted_File, newName]"
     ],
     "language": "python",
     "metadata": {},
     "outputs": [],
     "prompt_number": 3
    },
    {
     "cell_type": "code",
     "collapsed": false,
     "input": [
      "def workIt(keyList, holder):\n",
      "    print keyList[0]\n",
      "    print holder[keyList[0]]"
     ],
     "language": "python",
     "metadata": {},
     "outputs": []
    },
    {
     "cell_type": "code",
     "collapsed": false,
     "input": [
      "workIt(derp[0], derp[1])"
     ],
     "language": "python",
     "metadata": {},
     "outputs": []
    },
    {
     "cell_type": "code",
     "collapsed": false,
     "input": [
      "fileCheck(\"Jerm2-final-gene_sorted.gff3\", \"Jerm2.fasta\")"
     ],
     "language": "python",
     "metadata": {},
     "outputs": []
    },
    {
     "cell_type": "code",
     "collapsed": false,
     "input": [
      "Errors=[]\n",
      "derp = fastaRead(\"Jerm2.fasta\")\n",
      "geneCheck(31199,31429,derp,21)\n",
      "print Errors"
     ],
     "language": "python",
     "metadata": {},
     "outputs": []
    },
    {
     "cell_type": "code",
     "collapsed": false,
     "input": [
      "gene = \"N/A\"\n",
      "smlCount = 0\n",
      "\n",
      "for theSeq in SeqIO.parse(\"Jerm2.fasta\", \"fasta\"):\n",
      "    gene = theSeq\n",
      "gene.seq.translate() \n",
      "    "
     ],
     "language": "python",
     "metadata": {},
     "outputs": []
    },
    {
     "cell_type": "code",
     "collapsed": false,
     "input": [
      "def translate(nucSeq):\n",
      "    \n",
      "    codonLib = {'TTT':'F','TTC':'F','TTA':'L','TTG':'L','CTT':'L','CTC':'L','CTA':'L','CTG':'L','ATT':'I','ATC':'I','ATA':'I','ATG':'M','GTT':'V','GTC':'V',\n",
      "    'GTA':'V','GTG':'V','TCT':'S','TCC':'S','TCA':'S','TCG':'S','CCT':'P','CCC':'P','CCA':'P','CCG':'P','ACT':'T','ACC':'T','ACA':'T','ACG':'T','GCT':'A',\n",
      "    'GCC':'A','GCA':'A','GCG':'A','TAT':'Y','TAC':'Y','TAA':'*','TAG':'*','CAT':'H','CAC':'H','CAA':'Q','CAG':'Q','AAT':'N','AAC':'N','AAA':'K','AAG':'K',\n",
      "    'GAT':'D','GAC':'D','GAA':'E','GAG':'E','TGT':'C','TGC':'C','TGA':'*','TGG':'W','CGT':'R','CGC':'R','CGA':'R','CGG':'R','AGT':'S','AGC':'S','AGA':'R',\n",
      "    'AGG':'R','GGT':'G','GGC':'G','GGA':'G','GGG':'G'}\n",
      "    \n",
      "    cntLoc = 0\n",
      "    cntCodon = 0\n",
      "    codon = ''\n",
      "    protSeq = ''\n",
      "    while cntLoc < len(nucSeq):\n",
      "        codon = codon + nucSeq[cntLoc]\n",
      "        cntCodon += 1\n",
      "        if cntCodon == 3:\n",
      "            temp = codonLib[codon]\n",
      "            protSeq = protSeq + temp\n",
      "            codon = ''\n",
      "            cntCodon = 0\n",
      "        cntLoc += 1\n",
      "        \n",
      "    return protSeq"
     ],
     "language": "python",
     "metadata": {},
     "outputs": []
    },
    {
     "cell_type": "code",
     "collapsed": false,
     "input": [
      "def geneCheck(coord1, coord2, seq, count):\n",
      "    \n",
      "    gene = seq[coord1-1:coord2]\n",
      "    try:\n",
      "        if len(gene)%3 != 0:\n",
      "            raise BiologyError(\"0050\") ## divisible by three\n",
      "    except BiologyError as er:\n",
      "        Errors.append(\"[\" + str(count) +\"] \" + er.returnError())\n",
      "    \n",
      "    try:\n",
      "        protein = translate(gene) ## errors in translating the gene\n",
      "    except:\n",
      "        Errors.append(\"[\" + str(count) + \"]  Biology Error: unable to translate sequence. Ensure sequence provided is a nucleotide sequence.\")\n",
      "        return\n",
      "\n",
      "    Start = True\n",
      "    startCodon = seq[coord1-1:coord1+2]\n",
      "    if startCodon == \"ATG\" or startCodon == \"TTG\" or startCodon == \"GTG\":\n",
      "        Start = False\n",
      "    \n",
      "    try:\n",
      "        if protein.count(\"*\") == 0:\n",
      "            raise BiologyError(\"0030\") ## no stop codon\n",
      "        if protein.count(\"*\") > 1:\n",
      "            raise BiologyError(\"0040\") ## internal stop codons\n",
      "        if Start:\n",
      "            raise BiologyError(\"0020\") ## has to start with M\n",
      "    except BiologyError as er:\n",
      "        Errors.append(\"[\" + str(count) +\"] \" + er.returnError())\n",
      "    \n",
      "    return\n",
      "    "
     ],
     "language": "python",
     "metadata": {},
     "outputs": []
    },
    {
     "cell_type": "code",
     "collapsed": false,
     "input": [
      "Errors = []\n",
      "prot = geneCheck(1, 60, \"TTGTCATCATCATCATCATCATCATCATCATCATCATCATCATCATCATCATCATCATAAATGATGATGATGATGATGATG\", 35)\n",
      "print Errors"
     ],
     "language": "python",
     "metadata": {},
     "outputs": []
    },
    {
     "cell_type": "code",
     "collapsed": false,
     "input": [
      "len(\"TTGTCATCATCATCATCATCATCATCATCATCATCATCATCATCATCATCATCATCATAA\")"
     ],
     "language": "python",
     "metadata": {},
     "outputs": []
    },
    {
     "cell_type": "code",
     "collapsed": false,
     "input": [
      "def geneCheckBio(coord1, coord2, seq, count):\n",
      "    gene = \"N/A\"\n",
      "    smlCount = 0\n",
      "    \n",
      "    try:\n",
      "        for theSeq in SeqIO.parse(seq, \"fasta\"):\n",
      "            gene = theSeq[coord1:coord2]\n",
      "            smlCount += 1\n",
      "        if smlCount != 1:\n",
      "            raise FormatError(\"0600\")\n",
      "    except FormatError as er:\n",
      "        Errors.append(\"[\" + str(count) +\"] \" + er.returnError())\n",
      "        return\n",
      "    except:\n",
      "        Errors.append(\"Error in parsing the fasta file. Ensure correct fasta format\")\n",
      "        return\n",
      "    \n",
      "    try:\n",
      "        if len(gene)%3 != 0:\n",
      "            raise BiologyError(\"0050\") ## divisible by three\n",
      "    except BiologyError as er:\n",
      "        Errors.append(\"[\" + str(count) +\"] \" + er.returnError())\n",
      "        \n",
      "    try:\n",
      "        protein = gene.seq.translate() ## errors in translating the gene\n",
      "    except:\n",
      "        Errors.append(\"[\" + str(count) + \"]  Biology Error: unable to translate sequence. Ensure sequence provided is a nucleotide sequence.\")\n",
      "        return\n",
      "    \n",
      "    try:\n",
      "        if protein.count(\"*\") == 0:\n",
      "            raise BiologyError(\"0030\") ## no stop codon\n",
      "        if protein.count(\"*\") > 1:\n",
      "            raise BiologyError(\"0040\") ## internal stop codons\n",
      "        if protein[0] != \"M\":\n",
      "            raise BiologyError(\"0020\") ## has to start with M\n",
      "    except BiologyError as er:\n",
      "        Errors.append(\"[\" + str(count) +\"] \" + er.returnError())\n",
      "    \n",
      "    return "
     ],
     "language": "python",
     "metadata": {},
     "outputs": []
    },
    {
     "cell_type": "code",
     "collapsed": false,
     "input": [
      "81%3"
     ],
     "language": "python",
     "metadata": {},
     "outputs": []
    },
    {
     "cell_type": "code",
     "collapsed": false,
     "input": [
      "len(\"TTGTCATCATCATCATCATCATCATCATCATCATCATCATCATCATCATCATCATCATAAATGATGATGATGATGATGATG\")"
     ],
     "language": "python",
     "metadata": {},
     "outputs": []
    },
    {
     "cell_type": "code",
     "collapsed": false,
     "input": [
      "def errorsToFile(errorsList, gff3_File_name):\n",
      "    \n",
      "    \n",
      "    \n",
      "    newName = gff3_File_name[0:-5] + \"_sorted_Errors.txt\"\n",
      "    out = open(newName,\"w\")\n",
      "    for item in errorsList:\n",
      "        out.write(item)\n",
      "    out.close()\n",
      "    return newName\n",
      "    "
     ],
     "language": "python",
     "metadata": {},
     "outputs": []
    },
    {
     "cell_type": "code",
     "collapsed": false,
     "input": [],
     "language": "python",
     "metadata": {},
     "outputs": []
    },
    {
     "cell_type": "code",
     "collapsed": false,
     "input": [
      "class ValidationError(Exception):\n",
      "    def __init__(self, code, message = \"\"):\n",
      "        \n",
      "        _dict = dict()\n",
      "        _dict['0000'] = \"Usage Error: code not used. Use printDict() to see dictionary of errors\"\n",
      "        _dict['1000'] = \"Validation Error: unknown\"\n",
      "        \n",
      "        self.code = str(code)\n",
      "        self._dict = _dict\n",
      "        self.message = message\n",
      "        \n",
      "        super(ValidationError, self).__init__(code, message)\n",
      "        \n",
      "    def printDict(self):\n",
      "        for k, v in self._dict.iteritems():\n",
      "            print k + \":  \" + v\n",
      "            \n",
      "    def returnError(self):\n",
      "        try:\n",
      "            return self._dict[self.code]\n",
      "        except:\n",
      "            return self._dict['0000']\n",
      "\n",
      "        "
     ],
     "language": "python",
     "metadata": {},
     "outputs": []
    },
    {
     "cell_type": "code",
     "collapsed": false,
     "input": [
      "class FormatError(ValidationError):\n",
      "    def __init__(self, code, message = \"\"):\n",
      "        \n",
      "        super(FormatError, self).__init__(code, message)\n",
      "        \n",
      "        self._dict['0100'] = \"Format Error: unknown.\"\n",
      "        self._dict['0200'] = \"Format Error: lines merged.\"\n",
      "        self._dict['0300'] = \"Format Error: tab deliminated.\"\n",
      "        self._dict['0400'] = \"Format Error: multiple contigs. There should only be one contig line per file.\"\n",
      "        self._dict['0500'] = \"Format Error: each set of coordinates must have a line for each type. Types are seen at the third component. Default types are [gene, mRNA, exon]\"\n",
      "        self._dict['0600'] = \"Format Error: ensure only one sequence in fasta file.\"\n",
      "        "
     ],
     "language": "python",
     "metadata": {},
     "outputs": []
    },
    {
     "cell_type": "code",
     "collapsed": false,
     "input": [
      "class LineError(ValidationError):\n",
      "    def __init__(self, code, message = \"\"):\n",
      "        \n",
      "        super(LineError, self).__init__(code, message)\n",
      "\n",
      "        self._dict['0001'] = \"Line Error: unknown\"\n",
      "        self._dict['0002'] = \"Line Error: 1st component = restrict characters used to a-Z/0-9/./=/;\"\n",
      "        self._dict['0003'] = \"Line Error: 2nd component = restrict characters used to a-Z/0-9/./=/;\"\n",
      "        self._dict['0004'] = \"Line Error: 3rd component = type not found in types. Default is [gene, mRNA, exon].\"\n",
      "        self._dict['0005'] = \"Line Error: 4th component = 1st coordinate must be positive.\"\n",
      "        self._dict['0006'] = \"Line Error: 5th component = 2nd coordinate must be greater than the 1st coordinate.\"\n",
      "        self._dict['0007'] = \"Line Error: 6th component = must be a number or '.'\"\n",
      "        self._dict['0008'] = \"Line Error: 7th component = must be '+' or '-'\"\n",
      "        self._dict['0009'] = \"Line Error: 8th component = must be '.'\"\n",
      "        self._dict['0011'] = \"Line Error: 9th component = restrict characters used to a-Z/0-9/./=/;\"\n",
      "        self._dict['0012'] = \"Line Error: 9th component = ID already used. Each ID must be unique.\"\n",
      "        self._dict['0013'] = \"Line Error: 9th component = must have an ID and a name\"\n",
      "        self._dict['0021'] = \"Line Error: 9th component = bad sort or a gene does not have a line for each type. Default types are [gene, mRNA, exon].\"\n",
      "        self._dict['0022'] = \"Line Error: 9th component = restrict characters used to a-Z/0-9/./=/;\"\n",
      "        self._dict['0023'] = \"Line Error: 9th component = ID already used. Each ID must be unique.\"\n",
      "        self._dict['0024'] = \"Line Error: 9th component = last type, must at least have a Parent.\"\n",
      "        self._dict['0025'] = \"Line Error: 9th component = must have an ID and a Parent.\""
     ],
     "language": "python",
     "metadata": {},
     "outputs": []
    },
    {
     "cell_type": "code",
     "collapsed": false,
     "input": [
      "class BiologyError(ValidationError):\n",
      "    def __init__(self, code, message = \"\"):\n",
      "        \n",
      "        super(BiologyError, self).__init__(code, message)\n",
      "        \n",
      "        self._dict['0010'] = \"Biology Error: unknown\"\n",
      "        self._dict['0020'] = \"Biology Error: Incorrect start codon. Must start with M\"\n",
      "        self._dict['0030'] = \"Biology Error: No stop codon detected.\"\n",
      "        self._dict['0040'] = \"Biology Error: Internal stop codons\"\n",
      "        self._dict['0050'] = \"Biology Error: total nucleotide count not divisible by three.\""
     ],
     "language": "python",
     "metadata": {},
     "outputs": []
    },
    {
     "cell_type": "code",
     "collapsed": false,
     "input": [
      "def main2():\n",
      "    global bigG\n",
      "    bigG = ['derp','merp']\n",
      "    sec()\n",
      "    printGl()\n",
      "    \n",
      "def sec():\n",
      "    bigG.append('poke')\n",
      "    \n",
      "def printGl():\n",
      "    print bigG"
     ],
     "language": "python",
     "metadata": {},
     "outputs": []
    },
    {
     "cell_type": "code",
     "collapsed": false,
     "input": [
      "once = ['one','two','three']\n",
      "once.append('fourth')\n",
      "print once[3]"
     ],
     "language": "python",
     "metadata": {},
     "outputs": []
    },
    {
     "cell_type": "code",
     "collapsed": false,
     "input": [
      "main()"
     ],
     "language": "python",
     "metadata": {},
     "outputs": []
    },
    {
     "cell_type": "code",
     "collapsed": false,
     "input": [
      "mkdir code1"
     ],
     "language": "python",
     "metadata": {},
     "outputs": []
    },
    {
     "cell_type": "code",
     "collapsed": false,
     "input": [
      "cd code1/"
     ],
     "language": "python",
     "metadata": {},
     "outputs": []
    },
    {
     "cell_type": "code",
     "collapsed": false,
     "input": [
      "ls"
     ],
     "language": "python",
     "metadata": {},
     "outputs": []
    },
    {
     "cell_type": "code",
     "collapsed": false,
     "input": [
      "import Bio"
     ],
     "language": "python",
     "metadata": {},
     "outputs": []
    },
    {
     "cell_type": "code",
     "collapsed": false,
     "input": [
      "print Bio.__version__"
     ],
     "language": "python",
     "metadata": {},
     "outputs": []
    },
    {
     "cell_type": "code",
     "collapsed": false,
     "input": [
      "from Bio.Seq import Seq"
     ],
     "language": "python",
     "metadata": {},
     "outputs": []
    },
    {
     "cell_type": "code",
     "collapsed": false,
     "input": [
      "from Bio.Alphabet import IUPAC"
     ],
     "language": "python",
     "metadata": {},
     "outputs": []
    },
    {
     "cell_type": "code",
     "collapsed": false,
     "input": [
      "from Bio import SeqIO"
     ],
     "language": "python",
     "metadata": {},
     "outputs": []
    },
    {
     "cell_type": "code",
     "collapsed": false,
     "input": [
      "ls"
     ],
     "language": "python",
     "metadata": {},
     "outputs": []
    },
    {
     "cell_type": "code",
     "collapsed": false,
     "input": [
      "cd Desktop/Phage_Work/"
     ],
     "language": "python",
     "metadata": {},
     "outputs": []
    },
    {
     "cell_type": "code",
     "collapsed": false,
     "input": [
      "ls"
     ],
     "language": "python",
     "metadata": {},
     "outputs": []
    },
    {
     "cell_type": "code",
     "collapsed": false,
     "input": [
      "for seq_record in SeqIO.parse(\"seq.fasta\", \"fasta\"):\n",
      "    print seq_record.id\n",
      "    prac_seq = seq_record.seq\n",
      "    print repr(seq_record.seq)\n",
      "    print len(seq_record)"
     ],
     "language": "python",
     "metadata": {},
     "outputs": []
    },
    {
     "cell_type": "code",
     "collapsed": false,
     "input": [
      "str(prac_seq[-1])"
     ],
     "language": "python",
     "metadata": {},
     "outputs": []
    },
    {
     "cell_type": "code",
     "collapsed": false,
     "input": [
      "187/3"
     ],
     "language": "python",
     "metadata": {},
     "outputs": []
    },
    {
     "cell_type": "code",
     "collapsed": false,
     "input": [
      "seq2 = SeqIO.parse(\"seq.fasta\", \"fasta\")"
     ],
     "language": "python",
     "metadata": {},
     "outputs": []
    },
    {
     "cell_type": "code",
     "collapsed": false,
     "input": [
      "seq2.next"
     ],
     "language": "python",
     "metadata": {},
     "outputs": []
    },
    {
     "cell_type": "code",
     "collapsed": false,
     "input": [
      "for seq2 in SeqIO.parse(\"seq.fasta\", \"fasta\"):\n",
      "    print seq2.id\n",
      "    prac2 = seq2.seq\n",
      "    print repr(seq2.seq)\n",
      "    print len(seq2)"
     ],
     "language": "python",
     "metadata": {},
     "outputs": []
    },
    {
     "cell_type": "code",
     "collapsed": false,
     "input": [
      "prac2"
     ],
     "language": "python",
     "metadata": {},
     "outputs": []
    },
    {
     "cell_type": "code",
     "collapsed": false,
     "input": [
      "prac2.translate()"
     ],
     "language": "python",
     "metadata": {},
     "outputs": []
    },
    {
     "cell_type": "code",
     "collapsed": false,
     "input": [
      "coding_dna = Seq(\"ATGGCCATTGTAATGGGCCGCTGAAAGGGTGCCCGATAG\", IUPAC.unambiguous_dna)"
     ],
     "language": "python",
     "metadata": {},
     "outputs": []
    },
    {
     "cell_type": "code",
     "collapsed": false,
     "input": [
      "from Bio.Seq import Seq"
     ],
     "language": "python",
     "metadata": {},
     "outputs": []
    },
    {
     "cell_type": "code",
     "collapsed": false,
     "input": [
      "coding_dna = Seq(\"ATGGCCATTGTAATGGGCCGCTGAAAGGGTGCCCGATAG\", IUPAC.unambiguous_dna)"
     ],
     "language": "python",
     "metadata": {},
     "outputs": []
    },
    {
     "cell_type": "code",
     "collapsed": false,
     "input": [
      "import sys"
     ],
     "language": "python",
     "metadata": {},
     "outputs": []
    },
    {
     "cell_type": "code",
     "collapsed": false,
     "input": [
      "import sys\n",
      "gene = Seq(\"VVSRNGHSAQPQQNKKGKKGKLAGKLDFV\", IUPAC.unambiguous_dna)\n",
      "\n",
      "try:\n",
      "    protein = str(gene.translate())\n",
      "except :\n",
      "    print \"HO BOY  :\", sys.exc_info()[1]\n",
      "print \"still going\"\n",
      "print protein\n"
     ],
     "language": "python",
     "metadata": {},
     "outputs": []
    },
    {
     "cell_type": "code",
     "collapsed": false,
     "input": [
      "str(translated)"
     ],
     "language": "python",
     "metadata": {},
     "outputs": []
    },
    {
     "cell_type": "code",
     "collapsed": false,
     "input": [
      "coding_dna = Seq(\"ATGGCCATTGTAATGGGCCGCTGAAAGGGTGCCCGATAG\", IUPAC.unambiguous_dna)"
     ],
     "language": "python",
     "metadata": {},
     "outputs": []
    },
    {
     "cell_type": "code",
     "collapsed": false,
     "input": [
      "len(coding_dna)%3"
     ],
     "language": "python",
     "metadata": {},
     "outputs": []
    },
    {
     "cell_type": "code",
     "collapsed": false,
     "input": [
      "derp = {'yep' : 321,'nope' : 456,'maybe' : 789}\n",
      "derp.keys().index('maybe')"
     ],
     "language": "python",
     "metadata": {},
     "outputs": []
    },
    {
     "cell_type": "code",
     "collapsed": false,
     "input": [
      "def tatest(gff3_File):\n",
      "    tempS = str(gff3_File)\n",
      "    newS = tempS[0:-5] + \"_sorted.gff3\"\n",
      "    out = open(newS,\"w\")\n",
      "    out.write(\"HERE WE GO!!!\")"
     ],
     "language": "python",
     "metadata": {},
     "outputs": []
    },
    {
     "cell_type": "code",
     "collapsed": false,
     "input": [
      "tatest(\"Daffy.GeneMarkS.gff3\")"
     ],
     "language": "python",
     "metadata": {},
     "outputs": []
    },
    {
     "cell_type": "code",
     "collapsed": false,
     "input": [
      "sortGff3(\"sortTesting.gff3\")"
     ],
     "language": "python",
     "metadata": {},
     "outputs": []
    },
    {
     "cell_type": "code",
     "collapsed": false,
     "input": [
      "derp = \"Daff GeneMarkS gene 1 567 . + . ID=GeneMarkS.1;Name=GeneMarkS.1\"\n",
      "merp = derp.split(\"\\t\")\n",
      "merp[0]"
     ],
     "language": "python",
     "metadata": {},
     "outputs": []
    },
    {
     "cell_type": "code",
     "collapsed": false,
     "input": [
      "s = \"Name=Merp\"\n",
      "print s[5:]"
     ],
     "language": "python",
     "metadata": {},
     "outputs": []
    },
    {
     "cell_type": "code",
     "collapsed": false,
     "input": [
      "if \"derp\" != \"+\":\n",
      "    if \"derp\" != \"-\":\n",
      "        print \"error 9\"\n",
      "print \"still going\""
     ],
     "language": "python",
     "metadata": {},
     "outputs": []
    },
    {
     "cell_type": "code",
     "collapsed": false,
     "input": [
      "fileCheck(\"Daffy.GeneMarkS.gff3\",\"seq.fasta\")"
     ],
     "language": "python",
     "metadata": {},
     "outputs": []
    },
    {
     "cell_type": "code",
     "collapsed": false,
     "input": [
      "tt = \"ACTATCT*ATCTATD*\"\n",
      "tt.count(\"*\")"
     ],
     "language": "python",
     "metadata": {},
     "outputs": []
    },
    {
     "cell_type": "code",
     "collapsed": false,
     "input": [
      "tempS = \"Hello world. Wasup wit you?\""
     ],
     "language": "python",
     "metadata": {},
     "outputs": []
    },
    {
     "cell_type": "code",
     "collapsed": false,
     "input": [
      "tempS"
     ],
     "language": "python",
     "metadata": {},
     "outputs": []
    },
    {
     "cell_type": "code",
     "collapsed": false,
     "input": [
      "tempS.split(\" \")"
     ],
     "language": "python",
     "metadata": {},
     "outputs": []
    },
    {
     "cell_type": "code",
     "collapsed": false,
     "input": [
      "cay = False\n",
      "\n",
      "try:\n",
      "    if cay:\n",
      "        print \"nom\"\n",
      "    else:\n",
      "        raise ValidationError(\"1000\")\n",
      "except ValidationError as e:\n",
      "    print \"HELLO \" + e.returnError()\n",
      "except:\n",
      "    print \"Missed\"\n",
      "print \"END\""
     ],
     "language": "python",
     "metadata": {},
     "outputs": []
    },
    {
     "cell_type": "code",
     "collapsed": false,
     "input": [
      "kay = False\n",
      "\n",
      "try:\n",
      "    if kay:\n",
      "        print \"om\"\n",
      "    else:\n",
      "        raise FormatError(\"100\")\n",
      "except FormatError as e:\n",
      "    print e.printDict()\n",
      "except:\n",
      "    print \"missed me\"\n",
      "print \"end\""
     ],
     "language": "python",
     "metadata": {},
     "outputs": []
    },
    {
     "cell_type": "code",
     "collapsed": false,
     "input": [
      "raise FormatError(\"010\")"
     ],
     "language": "python",
     "metadata": {},
     "outputs": []
    },
    {
     "cell_type": "code",
     "collapsed": false,
     "input": [
      "try:\n",
      "    raise FormatError(\"010\")\n",
      "except FormatError as e:\n",
      "    print \"meep\""
     ],
     "language": "python",
     "metadata": {},
     "outputs": []
    },
    {
     "cell_type": "code",
     "collapsed": false,
     "input": [
      "prac = dict()\n",
      "prac[\"0300\"] = \"5\"\n",
      "prac[\"0001\"] = \"6\"\n",
      "prac[\"0002\"] = \"7\"\n",
      "prac[\"0003\"] = \"8\"\n",
      "prac[\"0000\"] = \"1\"\n",
      "prac[\"1000\"] = \"2\"\n",
      "prac[\"0100\"] = \"3\"\n",
      "prac[\"0200\"] = \"4\"\n",
      "prac[\"0010\"] = \"11\"\n",
      "prac[\"0020\"] = \"12\"\n",
      "prac[\"0030\"] = \"13\"\n",
      "prac[\"0040\"] = \"14\"\n",
      "\n",
      "prac.keys()"
     ],
     "language": "python",
     "metadata": {},
     "outputs": []
    },
    {
     "cell_type": "code",
     "collapsed": false,
     "input": [
      "listKeys = prac.keys()\n",
      "codeNum = len(listKeys)\n",
      "codeLen = len(listKeys[0])\n",
      "prevKey = \"\"\n",
      "index = 0\n",
      "while index < codeNum:\n",
      "    currKey = listKeys[index]\n",
      "    if index == 0:\n",
      "        prevKey = currKey\n",
      "        index += 1\n",
      "        continue\n",
      "    else:\n",
      "        for y in range(0, codeLen):\n",
      "            if currKey[y] == prevKey[y]:\n",
      "                continue\n",
      "            elif currKey[y] > prevKey[y]:\n",
      "                listKeys[index-1] = currKey\n",
      "                listKeys[index] = prevKey\n",
      "                index -= 2\n",
      "                break\n",
      "            else:\n",
      "                continue\n",
      "        index += 1\n",
      "        prevKey = currKey\n",
      "for key in listKeys:\n",
      "    print key\n",
      "        "
     ],
     "language": "python",
     "metadata": {},
     "outputs": []
    },
    {
     "cell_type": "code",
     "collapsed": false,
     "input": [
      "merp = \"010\"\n",
      "\n",
      "print len(merp)"
     ],
     "language": "python",
     "metadata": {},
     "outputs": []
    },
    {
     "cell_type": "code",
     "collapsed": false,
     "input": [
      "len(prac.keys())"
     ],
     "language": "python",
     "metadata": {},
     "outputs": []
    }
   ],
   "metadata": {}
  }
 ]
}