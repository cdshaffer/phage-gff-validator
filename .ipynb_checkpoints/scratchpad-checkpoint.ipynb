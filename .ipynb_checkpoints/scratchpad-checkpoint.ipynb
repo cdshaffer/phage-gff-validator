{
 "metadata": {
  "name": "",
  "signature": "sha256:ec0562a39fedd90597d5368fd4ee8f3e748e4d08e969f5819e5fc0ccc6a6908a"
 },
 "nbformat": 3,
 "nbformat_minor": 0,
 "worksheets": []
}