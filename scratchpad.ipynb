{
 "metadata": {
  "name": "",
  "signature": "sha256:56e3e64ebbafb15292f74a021a1d274e794e23c653fe2e7ef262095b903808fa"
 },
 "nbformat": 3,
 "nbformat_minor": 0,
 "worksheets": [
  {
   "cells": [
    {
     "cell_type": "code",
     "collapsed": false,
     "input": [
      "with open(\"docs/Phabio_headertab.gff3\", \"r\") as fi:\n",
      "    file = fi.readlines()\n",
      "  \n",
      "    for lineCount,line in enumerate(file[1:]):\n",
      "        print str(lineCount) + line\n",
      "        "
     ],
     "language": "python",
     "metadata": {},
     "outputs": [
      {
       "output_type": "stream",
       "stream": "stdout",
       "text": [
        "0Phabio_draft\tGroup\tcontig\t1\t54027\t200\t+\t.\tName=Phabio_draft\n",
        "\n",
        "1Phabio_draft\tGroup\tgene\t43\t371\t200\t+\t.\tID=Phabio.1;Name=Phabio.1\n",
        "\n",
        "2Phabio_draft\tGroup\tmRNA\t43\t371\t200\t+\t.\tID=Phabio.1.mRNA;Parent=Phabio.1\n",
        "\n",
        "3Phabio_draft\tGroup\texon\t43\t371\t200\t+\t.\tID=Phabio.1.exon;Parent=Phabio.1.mRNA\n",
        "\n",
        "4Phabio_draft\tGroup\tgene\t445\t699\t200\t+\t.\tID=Phabio.2;Name=Phabio.2\n",
        "\n",
        "5Phabio_draft\tGroup\tmRNA\t445\t699\t200\t+\t.\tID=Phabio.2.mRNA;Parent=Phabio.2\n",
        "\n",
        "6Phabio_draft\tGroup\texon\t445\t699\t200\t+\t.\tID=Phabio.2.exon;Parent=Phabio.2.mRNA\n",
        "\n",
        "7Phabio_draft\tGroup\tgene\t671\t2158\t200\t+\t.\tID=Phabio.3;Name=Phabio.3\n",
        "\n",
        "8Phabio_draft\tGroup\tmRNA\t671\t2158\t200\t+\t.\tID=Phabio.3.mRNA;Parent=Phabio.3\n",
        "\n",
        "9Phabio_draft\tGroup\texon\t671\t2158\t200\t+\t.\tID=Phabio.3.exon;Parent=Phabio.3.mRNA\n"
       ]
      }
     ],
     "prompt_number": 22
    },
    {
     "cell_type": "code",
     "collapsed": false,
     "input": [
      "type(file)"
     ],
     "language": "python",
     "metadata": {},
     "outputs": [
      {
       "metadata": {},
       "output_type": "pyout",
       "prompt_number": 17,
       "text": [
        "list"
       ]
      }
     ],
     "prompt_number": 17
    },
    {
     "cell_type": "code",
     "collapsed": false,
     "input": [
      "if int(\"f\"):\n",
      "    print \"yes\""
     ],
     "language": "python",
     "metadata": {},
     "outputs": [
      {
       "ename": "ValueError",
       "evalue": "invalid literal for int() with base 10: 'f'",
       "output_type": "pyerr",
       "traceback": [
        "\u001b[0;31m---------------------------------------------------------------------------\u001b[0m\n\u001b[0;31mValueError\u001b[0m                                Traceback (most recent call last)",
        "\u001b[0;32m<ipython-input-27-3d966b8b95ca>\u001b[0m in \u001b[0;36m<module>\u001b[0;34m()\u001b[0m\n\u001b[0;32m----> 1\u001b[0;31m \u001b[0;32mif\u001b[0m \u001b[0mint\u001b[0m\u001b[0;34m(\u001b[0m\u001b[0;34m\"f\"\u001b[0m\u001b[0;34m)\u001b[0m\u001b[0;34m:\u001b[0m\u001b[0;34m\u001b[0m\u001b[0m\n\u001b[0m\u001b[1;32m      2\u001b[0m     \u001b[0;32mprint\u001b[0m \u001b[0;34m\"yes\"\u001b[0m\u001b[0;34m\u001b[0m\u001b[0m\n",
        "\u001b[0;31mValueError\u001b[0m: invalid literal for int() with base 10: 'f'"
       ]
      }
     ],
     "prompt_number": 27
    },
    {
     "cell_type": "code",
     "collapsed": false,
     "input": [],
     "language": "python",
     "metadata": {},
     "outputs": []
    }
   ],
   "metadata": {}
  }
 ]
}