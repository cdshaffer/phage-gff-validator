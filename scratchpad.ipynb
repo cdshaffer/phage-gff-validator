{
 "metadata": {
  "name": "",
  "signature": "sha256:93bd4a77335a74f92aab10ce7b04f0f45fe399facf30d356fb580324d0f268a5"
 },
 "nbformat": 3,
 "nbformat_minor": 0,
 "worksheets": [
  {
   "cells": [
    {
     "cell_type": "code",
     "collapsed": false,
     "input": [
      "with open(\"docs/Phabio_3.gff3\", \"r\") as fi:\n",
      "    f = fi.readline()\n",
      "    print f\n",
      "    \n",
      "    for j in fi.readlines():\n",
      "        print \"j\" + j"
     ],
     "language": "python",
     "metadata": {},
     "outputs": [
      {
       "output_type": "stream",
       "stream": "stdout",
       "text": [
        "##gff-version 3\n",
        "\n",
        "jPhabio_draft\tGroup\tgene\t43\t371\t200\t+\t.\tID=Phabio.1;Name=Phabio.1\n",
        "\n",
        "jPhabio_draft\tGroup\tmRNA\t43\t371\t200\t+\t.\tID=Phabio.1.mRNA;Parent=Phabio.1\n",
        "\n",
        "jPhabio_draft\tGroup\texon\t43\t371\t200\t+\t.\tID=Phabio.1.exon;Parent=Phabio.1.mRNA\n",
        "\n",
        "jPhabio_draft\tGroup\tgene\t445\t699\t200\t+\t.\tID=Phabio.2;Name=Phabio.2\n",
        "\n",
        "jPhabio_draft\tGroup\tmRNA\t445\t699\t200\t+\t.\tID=Phabio.2.mRNA;Parent=Phabio.2\n",
        "\n",
        "jPhabio_draft\tGroup\texon\t445\t699\t200\t+\t.\tID=Phabio.2.exon;Parent=Phabio.2.mRNA\n",
        "\n",
        "jPhabio_draft\tGroup\tgene\t671\t2158\t200\t+\t.\tID=Phabio.3;Name=Phabio.3\n",
        "\n",
        "jPhabio_draft\tGroup\tmRNA\t671\t2158\t200\t+\t.\tID=Phabio.3.mRNA;Parent=Phabio.3\n",
        "\n",
        "jPhabio_draft\tGroup\texon\t671\t2158\t200\t+\t.\tID=Phabio.3.exon;Parent=Phabio.3.mRNA\n"
       ]
      }
     ],
     "prompt_number": 3
    },
    {
     "cell_type": "code",
     "collapsed": false,
     "input": [
      "type(f)"
     ],
     "language": "python",
     "metadata": {},
     "outputs": [
      {
       "metadata": {},
       "output_type": "pyout",
       "prompt_number": 2,
       "text": [
        "str"
       ]
      }
     ],
     "prompt_number": 2
    },
    {
     "cell_type": "code",
     "collapsed": false,
     "input": [],
     "language": "python",
     "metadata": {},
     "outputs": []
    }
   ],
   "metadata": {}
  }
 ]
}