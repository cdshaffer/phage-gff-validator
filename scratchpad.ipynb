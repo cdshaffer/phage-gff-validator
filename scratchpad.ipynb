{
 "metadata": {
  "name": "",
  "signature": "sha256:1e16466b6ddd3fdd794e5f397319fb1605119e8d45ed54a1914587c8714a82d3"
 },
 "nbformat": 3,
 "nbformat_minor": 0,
 "worksheets": [
  {
   "cells": [
    {
     "cell_type": "code",
     "collapsed": false,
     "input": [
      "with open(\"docs/Phabio_3.gff3\", \"r\") as fi:\n",
      "    f = fi.readline()\n",
      "    print f\n",
      "    \n",
      "    for num,j in enumerate(fi.readlines()):\n",
      "        print \"n \" + str(num) + \" j \" + j"
     ],
     "language": "python",
     "metadata": {},
     "outputs": [
      {
       "output_type": "stream",
       "stream": "stdout",
       "text": [
        "##gff-version 3\n",
        "\n",
        "n 0 j Phabio_draft\tGroup\tgene\t43\t371\t200\t+\t.\tID=Phabio.1;Name=Phabio.1\n",
        "\n",
        "n 1 j Phabio_draft\tGroup\tmRNA\t43\t371\t200\t+\t.\tID=Phabio.1.mRNA;Parent=Phabio.1\n",
        "\n",
        "n 2 j Phabio_draft\tGroup\texon\t43\t371\t200\t+\t.\tID=Phabio.1.exon;Parent=Phabio.1.mRNA\n",
        "\n",
        "n 3 j Phabio_draft\tGroup\tgene\t445\t699\t200\t+\t.\tID=Phabio.2;Name=Phabio.2\n",
        "\n",
        "n 4 j Phabio_draft\tGroup\tmRNA\t445\t699\t200\t+\t.\tID=Phabio.2.mRNA;Parent=Phabio.2\n",
        "\n",
        "n 5 j Phabio_draft\tGroup\texon\t445\t699\t200\t+\t.\tID=Phabio.2.exon;Parent=Phabio.2.mRNA\n",
        "\n",
        "n 6 j Phabio_draft\tGroup\tgene\t671\t2158\t200\t+\t.\tID=Phabio.3;Name=Phabio.3\n",
        "\n",
        "n 7 j Phabio_draft\tGroup\tmRNA\t671\t2158\t200\t+\t.\tID=Phabio.3.mRNA;Parent=Phabio.3\n",
        "\n",
        "n 8 j Phabio_draft\tGroup\texon\t671\t2158\t200\t+\t.\tID=Phabio.3.exon;Parent=Phabio.3.mRNA\n"
       ]
      }
     ],
     "prompt_number": 7
    },
    {
     "cell_type": "code",
     "collapsed": false,
     "input": [
      "type(f)"
     ],
     "language": "python",
     "metadata": {},
     "outputs": [
      {
       "metadata": {},
       "output_type": "pyout",
       "prompt_number": 2,
       "text": [
        "str"
       ]
      }
     ],
     "prompt_number": 2
    },
    {
     "cell_type": "code",
     "collapsed": false,
     "input": [],
     "language": "python",
     "metadata": {},
     "outputs": []
    }
   ],
   "metadata": {}
  }
 ]
}