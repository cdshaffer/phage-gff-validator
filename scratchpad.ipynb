{
 "metadata": {
  "name": "",
  "signature": "sha256:4aa8d6bbf8d55621840f0a554c65c8e94cbdaacc9825462930617eb3b11558aa"
 },
 "nbformat": 3,
 "nbformat_minor": 0,
 "worksheets": [
  {
   "cells": [
    {
     "cell_type": "code",
     "collapsed": false,
     "input": [
      "with open(\"docs/Phabio_headertab.gff3\", \"r\") as fi:\n",
      "    file = fi.readlines()\n",
      "  \n",
      "    for lineCount,line in enumerate(file[1:]):\n",
      "        print str(lineCount) + line\n",
      "        "
     ],
     "language": "python",
     "metadata": {},
     "outputs": [
      {
       "output_type": "stream",
       "stream": "stdout",
       "text": [
        "0Phabio_draft\tGroup\tcontig\t1\t54027\t200\t+\t.\tName=Phabio_draft\n",
        "\n",
        "1Phabio_draft\tGroup\tgene\t43\t371\t200\t+\t.\tID=Phabio.1;Name=Phabio.1\n",
        "\n",
        "2Phabio_draft\tGroup\tmRNA\t43\t371\t200\t+\t.\tID=Phabio.1.mRNA;Parent=Phabio.1\n",
        "\n",
        "3Phabio_draft\tGroup\texon\t43\t371\t200\t+\t.\tID=Phabio.1.exon;Parent=Phabio.1.mRNA\n",
        "\n",
        "4Phabio_draft\tGroup\tgene\t445\t699\t200\t+\t.\tID=Phabio.2;Name=Phabio.2\n",
        "\n",
        "5Phabio_draft\tGroup\tmRNA\t445\t699\t200\t+\t.\tID=Phabio.2.mRNA;Parent=Phabio.2\n",
        "\n",
        "6Phabio_draft\tGroup\texon\t445\t699\t200\t+\t.\tID=Phabio.2.exon;Parent=Phabio.2.mRNA\n",
        "\n",
        "7Phabio_draft\tGroup\tgene\t671\t2158\t200\t+\t.\tID=Phabio.3;Name=Phabio.3\n",
        "\n",
        "8Phabio_draft\tGroup\tmRNA\t671\t2158\t200\t+\t.\tID=Phabio.3.mRNA;Parent=Phabio.3\n",
        "\n",
        "9Phabio_draft\tGroup\texon\t671\t2158\t200\t+\t.\tID=Phabio.3.exon;Parent=Phabio.3.mRNA\n"
       ]
      }
     ],
     "prompt_number": 22
    },
    {
     "cell_type": "code",
     "collapsed": false,
     "input": [
      "type(file)"
     ],
     "language": "python",
     "metadata": {},
     "outputs": [
      {
       "metadata": {},
       "output_type": "pyout",
       "prompt_number": 17,
       "text": [
        "list"
       ]
      }
     ],
     "prompt_number": 17
    },
    {
     "cell_type": "code",
     "collapsed": false,
     "input": [
      "\n",
      "try:\n",
      "    int(\"j\")\n",
      "except ValueError as er:\n",
      "    print er.message"
     ],
     "language": "python",
     "metadata": {},
     "outputs": [
      {
       "output_type": "stream",
       "stream": "stdout",
       "text": [
        "invalid literal for int() with base 10: 'j'\n"
       ]
      }
     ],
     "prompt_number": 32
    },
    {
     "cell_type": "heading",
     "level": 1,
     "metadata": {},
     "source": [
      "test"
     ]
    },
    {
     "cell_type": "code",
     "collapsed": false,
     "input": [
      "x =7"
     ],
     "language": "python",
     "metadata": {},
     "outputs": [],
     "prompt_number": 29
    },
    {
     "cell_type": "code",
     "collapsed": false,
     "input": [],
     "language": "python",
     "metadata": {},
     "outputs": []
    }
   ],
   "metadata": {}
  }
 ]
}