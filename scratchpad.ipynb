{
 "metadata": {
  "name": "",
  "signature": "sha256:a0ce3e7ec881d9305f697c2fca3593a2d2efc76f401008d217bf202430c3f4e7"
 },
 "nbformat": 3,
 "nbformat_minor": 0,
 "worksheets": [
  {
   "cells": [
    {
     "cell_type": "code",
     "collapsed": false,
     "input": [
      "with open(\"docs/Phabio_headertab.gff3\", \"r\") as fi:\n",
      "    file = fi.readlines()\n",
      "  \n",
      "    for lineCount,line in enumerate(file[1:]):\n",
      "        print str(lineCount) + line\n",
      "        "
     ],
     "language": "python",
     "metadata": {},
     "outputs": [
      {
       "output_type": "stream",
       "stream": "stdout",
       "text": [
        "0Phabio_draft\tGroup\tcontig\t1\t54027\t200\t+\t.\tName=Phabio_draft\n",
        "\n",
        "1Phabio_draft\tGroup\tgene\t43\t371\t200\t+\t.\tID=Phabio.1;Name=Phabio.1\n",
        "\n",
        "2Phabio_draft\tGroup\tmRNA\t43\t371\t200\t+\t.\tID=Phabio.1.mRNA;Parent=Phabio.1\n",
        "\n",
        "3Phabio_draft\tGroup\texon\t43\t371\t200\t+\t.\tID=Phabio.1.exon;Parent=Phabio.1.mRNA\n",
        "\n",
        "4Phabio_draft\tGroup\tgene\t445\t699\t200\t+\t.\tID=Phabio.2;Name=Phabio.2\n",
        "\n",
        "5Phabio_draft\tGroup\tmRNA\t445\t699\t200\t+\t.\tID=Phabio.2.mRNA;Parent=Phabio.2\n",
        "\n",
        "6Phabio_draft\tGroup\texon\t445\t699\t200\t+\t.\tID=Phabio.2.exon;Parent=Phabio.2.mRNA\n",
        "\n",
        "7Phabio_draft\tGroup\tgene\t671\t2158\t200\t+\t.\tID=Phabio.3;Name=Phabio.3\n",
        "\n",
        "8Phabio_draft\tGroup\tmRNA\t671\t2158\t200\t+\t.\tID=Phabio.3.mRNA;Parent=Phabio.3\n",
        "\n",
        "9Phabio_draft\tGroup\texon\t671\t2158\t200\t+\t.\tID=Phabio.3.exon;Parent=Phabio.3.mRNA\n"
       ]
      }
     ],
     "prompt_number": 22
    },
    {
     "cell_type": "code",
     "collapsed": false,
     "input": [
      "type(file)"
     ],
     "language": "python",
     "metadata": {},
     "outputs": [
      {
       "metadata": {},
       "output_type": "pyout",
       "prompt_number": 17,
       "text": [
        "list"
       ]
      }
     ],
     "prompt_number": 17
    },
    {
     "cell_type": "code",
     "collapsed": false,
     "input": [
      "if int(\"7\"):\n",
      "    print \"yes\""
     ],
     "language": "python",
     "metadata": {},
     "outputs": [
      {
       "output_type": "stream",
       "stream": "stdout",
       "text": [
        "yes\n"
       ]
      }
     ],
     "prompt_number": 28
    },
    {
     "cell_type": "code",
     "collapsed": false,
     "input": [],
     "language": "python",
     "metadata": {},
     "outputs": []
    }
   ],
   "metadata": {}
  }
 ]
}